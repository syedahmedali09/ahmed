{
  "nbformat": 4,
  "nbformat_minor": 0,
  "metadata": {
    "colab": {
      "name": "creditcard.ipynb",
      "provenance": []
    },
    "kernelspec": {
      "name": "python3",
      "display_name": "Python 3"
    },
    "language_info": {
      "name": "python"
    },
    "accelerator": "TPU"
  },
  "cells": [
    {
      "cell_type": "code",
      "metadata": {
        "colab": {
          "base_uri": "https://localhost:8080/",
          "height": 217
        },
        "id": "dfsQ8tQCCAsp",
        "outputId": "8f5c8016-d703-4f3d-d3c1-8d0a4998cb17"
      },
      "source": [
        "import pandas as pd\n",
        "cc_data=pd.read_csv(\"//content/creditcard.csv\")\n",
        "cc_data.head()\n"
      ],
      "execution_count": 3,
      "outputs": [
        {
          "output_type": "execute_result",
          "data": {
            "text/html": [
              "<div>\n",
              "<style scoped>\n",
              "    .dataframe tbody tr th:only-of-type {\n",
              "        vertical-align: middle;\n",
              "    }\n",
              "\n",
              "    .dataframe tbody tr th {\n",
              "        vertical-align: top;\n",
              "    }\n",
              "\n",
              "    .dataframe thead th {\n",
              "        text-align: right;\n",
              "    }\n",
              "</style>\n",
              "<table border=\"1\" class=\"dataframe\">\n",
              "  <thead>\n",
              "    <tr style=\"text-align: right;\">\n",
              "      <th></th>\n",
              "      <th>Time</th>\n",
              "      <th>V1</th>\n",
              "      <th>V2</th>\n",
              "      <th>V3</th>\n",
              "      <th>V4</th>\n",
              "      <th>V5</th>\n",
              "      <th>V6</th>\n",
              "      <th>V7</th>\n",
              "      <th>V8</th>\n",
              "      <th>V9</th>\n",
              "      <th>V10</th>\n",
              "      <th>V11</th>\n",
              "      <th>V12</th>\n",
              "      <th>V13</th>\n",
              "      <th>V14</th>\n",
              "      <th>V15</th>\n",
              "      <th>V16</th>\n",
              "      <th>V17</th>\n",
              "      <th>V18</th>\n",
              "      <th>V19</th>\n",
              "      <th>V20</th>\n",
              "      <th>V21</th>\n",
              "      <th>V22</th>\n",
              "      <th>V23</th>\n",
              "      <th>V24</th>\n",
              "      <th>V25</th>\n",
              "      <th>V26</th>\n",
              "      <th>V27</th>\n",
              "      <th>V28</th>\n",
              "      <th>Amount</th>\n",
              "      <th>Class</th>\n",
              "    </tr>\n",
              "  </thead>\n",
              "  <tbody>\n",
              "    <tr>\n",
              "      <th>0</th>\n",
              "      <td>0.0</td>\n",
              "      <td>-1.359807</td>\n",
              "      <td>-0.072781</td>\n",
              "      <td>2.536347</td>\n",
              "      <td>1.378155</td>\n",
              "      <td>-0.338321</td>\n",
              "      <td>0.462388</td>\n",
              "      <td>0.239599</td>\n",
              "      <td>0.098698</td>\n",
              "      <td>0.363787</td>\n",
              "      <td>0.090794</td>\n",
              "      <td>-0.551600</td>\n",
              "      <td>-0.617801</td>\n",
              "      <td>-0.991390</td>\n",
              "      <td>-0.311169</td>\n",
              "      <td>1.468177</td>\n",
              "      <td>-0.470401</td>\n",
              "      <td>0.207971</td>\n",
              "      <td>0.025791</td>\n",
              "      <td>0.403993</td>\n",
              "      <td>0.251412</td>\n",
              "      <td>-0.018307</td>\n",
              "      <td>0.277838</td>\n",
              "      <td>-0.110474</td>\n",
              "      <td>0.066928</td>\n",
              "      <td>0.128539</td>\n",
              "      <td>-0.189115</td>\n",
              "      <td>0.133558</td>\n",
              "      <td>-0.021053</td>\n",
              "      <td>149.62</td>\n",
              "      <td>0</td>\n",
              "    </tr>\n",
              "    <tr>\n",
              "      <th>1</th>\n",
              "      <td>0.0</td>\n",
              "      <td>1.191857</td>\n",
              "      <td>0.266151</td>\n",
              "      <td>0.166480</td>\n",
              "      <td>0.448154</td>\n",
              "      <td>0.060018</td>\n",
              "      <td>-0.082361</td>\n",
              "      <td>-0.078803</td>\n",
              "      <td>0.085102</td>\n",
              "      <td>-0.255425</td>\n",
              "      <td>-0.166974</td>\n",
              "      <td>1.612727</td>\n",
              "      <td>1.065235</td>\n",
              "      <td>0.489095</td>\n",
              "      <td>-0.143772</td>\n",
              "      <td>0.635558</td>\n",
              "      <td>0.463917</td>\n",
              "      <td>-0.114805</td>\n",
              "      <td>-0.183361</td>\n",
              "      <td>-0.145783</td>\n",
              "      <td>-0.069083</td>\n",
              "      <td>-0.225775</td>\n",
              "      <td>-0.638672</td>\n",
              "      <td>0.101288</td>\n",
              "      <td>-0.339846</td>\n",
              "      <td>0.167170</td>\n",
              "      <td>0.125895</td>\n",
              "      <td>-0.008983</td>\n",
              "      <td>0.014724</td>\n",
              "      <td>2.69</td>\n",
              "      <td>0</td>\n",
              "    </tr>\n",
              "    <tr>\n",
              "      <th>2</th>\n",
              "      <td>1.0</td>\n",
              "      <td>-1.358354</td>\n",
              "      <td>-1.340163</td>\n",
              "      <td>1.773209</td>\n",
              "      <td>0.379780</td>\n",
              "      <td>-0.503198</td>\n",
              "      <td>1.800499</td>\n",
              "      <td>0.791461</td>\n",
              "      <td>0.247676</td>\n",
              "      <td>-1.514654</td>\n",
              "      <td>0.207643</td>\n",
              "      <td>0.624501</td>\n",
              "      <td>0.066084</td>\n",
              "      <td>0.717293</td>\n",
              "      <td>-0.165946</td>\n",
              "      <td>2.345865</td>\n",
              "      <td>-2.890083</td>\n",
              "      <td>1.109969</td>\n",
              "      <td>-0.121359</td>\n",
              "      <td>-2.261857</td>\n",
              "      <td>0.524980</td>\n",
              "      <td>0.247998</td>\n",
              "      <td>0.771679</td>\n",
              "      <td>0.909412</td>\n",
              "      <td>-0.689281</td>\n",
              "      <td>-0.327642</td>\n",
              "      <td>-0.139097</td>\n",
              "      <td>-0.055353</td>\n",
              "      <td>-0.059752</td>\n",
              "      <td>378.66</td>\n",
              "      <td>0</td>\n",
              "    </tr>\n",
              "    <tr>\n",
              "      <th>3</th>\n",
              "      <td>1.0</td>\n",
              "      <td>-0.966272</td>\n",
              "      <td>-0.185226</td>\n",
              "      <td>1.792993</td>\n",
              "      <td>-0.863291</td>\n",
              "      <td>-0.010309</td>\n",
              "      <td>1.247203</td>\n",
              "      <td>0.237609</td>\n",
              "      <td>0.377436</td>\n",
              "      <td>-1.387024</td>\n",
              "      <td>-0.054952</td>\n",
              "      <td>-0.226487</td>\n",
              "      <td>0.178228</td>\n",
              "      <td>0.507757</td>\n",
              "      <td>-0.287924</td>\n",
              "      <td>-0.631418</td>\n",
              "      <td>-1.059647</td>\n",
              "      <td>-0.684093</td>\n",
              "      <td>1.965775</td>\n",
              "      <td>-1.232622</td>\n",
              "      <td>-0.208038</td>\n",
              "      <td>-0.108300</td>\n",
              "      <td>0.005274</td>\n",
              "      <td>-0.190321</td>\n",
              "      <td>-1.175575</td>\n",
              "      <td>0.647376</td>\n",
              "      <td>-0.221929</td>\n",
              "      <td>0.062723</td>\n",
              "      <td>0.061458</td>\n",
              "      <td>123.50</td>\n",
              "      <td>0</td>\n",
              "    </tr>\n",
              "    <tr>\n",
              "      <th>4</th>\n",
              "      <td>2.0</td>\n",
              "      <td>-1.158233</td>\n",
              "      <td>0.877737</td>\n",
              "      <td>1.548718</td>\n",
              "      <td>0.403034</td>\n",
              "      <td>-0.407193</td>\n",
              "      <td>0.095921</td>\n",
              "      <td>0.592941</td>\n",
              "      <td>-0.270533</td>\n",
              "      <td>0.817739</td>\n",
              "      <td>0.753074</td>\n",
              "      <td>-0.822843</td>\n",
              "      <td>0.538196</td>\n",
              "      <td>1.345852</td>\n",
              "      <td>-1.119670</td>\n",
              "      <td>0.175121</td>\n",
              "      <td>-0.451449</td>\n",
              "      <td>-0.237033</td>\n",
              "      <td>-0.038195</td>\n",
              "      <td>0.803487</td>\n",
              "      <td>0.408542</td>\n",
              "      <td>-0.009431</td>\n",
              "      <td>0.798278</td>\n",
              "      <td>-0.137458</td>\n",
              "      <td>0.141267</td>\n",
              "      <td>-0.206010</td>\n",
              "      <td>0.502292</td>\n",
              "      <td>0.219422</td>\n",
              "      <td>0.215153</td>\n",
              "      <td>69.99</td>\n",
              "      <td>0</td>\n",
              "    </tr>\n",
              "  </tbody>\n",
              "</table>\n",
              "</div>"
            ],
            "text/plain": [
              "   Time        V1        V2        V3  ...       V27       V28  Amount  Class\n",
              "0   0.0 -1.359807 -0.072781  2.536347  ...  0.133558 -0.021053  149.62      0\n",
              "1   0.0  1.191857  0.266151  0.166480  ... -0.008983  0.014724    2.69      0\n",
              "2   1.0 -1.358354 -1.340163  1.773209  ... -0.055353 -0.059752  378.66      0\n",
              "3   1.0 -0.966272 -0.185226  1.792993  ...  0.062723  0.061458  123.50      0\n",
              "4   2.0 -1.158233  0.877737  1.548718  ...  0.219422  0.215153   69.99      0\n",
              "\n",
              "[5 rows x 31 columns]"
            ]
          },
          "metadata": {
            "tags": []
          },
          "execution_count": 3
        }
      ]
    },
    {
      "cell_type": "code",
      "metadata": {
        "colab": {
          "base_uri": "https://localhost:8080/"
        },
        "id": "DytcYgcv3eMg",
        "outputId": "7c32374c-04ec-4c80-f4fb-2afac577ec14"
      },
      "source": [
        "cc_data.isnull().sum()"
      ],
      "execution_count": 5,
      "outputs": [
        {
          "output_type": "execute_result",
          "data": {
            "text/plain": [
              "Time      0\n",
              "V1        0\n",
              "V2        0\n",
              "V3        0\n",
              "V4        0\n",
              "V5        0\n",
              "V6        0\n",
              "V7        0\n",
              "V8        0\n",
              "V9        0\n",
              "V10       0\n",
              "V11       0\n",
              "V12       0\n",
              "V13       0\n",
              "V14       0\n",
              "V15       0\n",
              "V16       0\n",
              "V17       0\n",
              "V18       0\n",
              "V19       0\n",
              "V20       0\n",
              "V21       0\n",
              "V22       0\n",
              "V23       0\n",
              "V24       0\n",
              "V25       0\n",
              "V26       0\n",
              "V27       0\n",
              "V28       0\n",
              "Amount    0\n",
              "Class     0\n",
              "dtype: int64"
            ]
          },
          "metadata": {
            "tags": []
          },
          "execution_count": 5
        }
      ]
    },
    {
      "cell_type": "code",
      "metadata": {
        "colab": {
          "base_uri": "https://localhost:8080/"
        },
        "id": "GpONtF5R3ePg",
        "outputId": "745070d2-b0a4-4bc4-be4f-247ab9cd1ea3"
      },
      "source": [
        "cc_data.shape"
      ],
      "execution_count": 6,
      "outputs": [
        {
          "output_type": "execute_result",
          "data": {
            "text/plain": [
              "(284807, 31)"
            ]
          },
          "metadata": {
            "tags": []
          },
          "execution_count": 6
        }
      ]
    },
    {
      "cell_type": "code",
      "metadata": {
        "colab": {
          "base_uri": "https://localhost:8080/"
        },
        "id": "BEyQBrfX5hNC",
        "outputId": "600be921-47ce-4126-c94c-bb414fa2f211"
      },
      "source": [
        "284807//2\n",
        "\n"
      ],
      "execution_count": 10,
      "outputs": [
        {
          "output_type": "execute_result",
          "data": {
            "text/plain": [
              "142403"
            ]
          },
          "metadata": {
            "tags": []
          },
          "execution_count": 10
        }
      ]
    },
    {
      "cell_type": "code",
      "metadata": {
        "colab": {
          "base_uri": "https://localhost:8080/"
        },
        "id": "X4UE6GWh6ETg",
        "outputId": "ed006a54-1855-4345-f00e-68a7abac7478"
      },
      "source": [
        "284807*30//100\n"
      ],
      "execution_count": 12,
      "outputs": [
        {
          "output_type": "execute_result",
          "data": {
            "text/plain": [
              "85442"
            ]
          },
          "metadata": {
            "tags": []
          },
          "execution_count": 12
        }
      ]
    },
    {
      "cell_type": "code",
      "metadata": {
        "colab": {
          "base_uri": "https://localhost:8080/"
        },
        "id": "DN38JS977HtL",
        "outputId": "73ac1877-dbac-43ae-dd0b-881319e8fd3d"
      },
      "source": [
        "142403+85442"
      ],
      "execution_count": 13,
      "outputs": [
        {
          "output_type": "execute_result",
          "data": {
            "text/plain": [
              "227845"
            ]
          },
          "metadata": {
            "tags": []
          },
          "execution_count": 13
        }
      ]
    },
    {
      "cell_type": "code",
      "metadata": {
        "id": "tQa3iOzr5VqZ"
      },
      "source": [
        "x=cc_data.iloc[:142403]\n",
        "y= cc_data[142403:227845]\n",
        "x_val= cc_data[227845:]"
      ],
      "execution_count": 25,
      "outputs": []
    },
    {
      "cell_type": "code",
      "metadata": {
        "id": "dC07Od2zEKZW"
      },
      "source": [
        "x=cc_data.iloc[:,:-1]\n",
        "y=cc_data[\"Class\"]"
      ],
      "execution_count": 34,
      "outputs": []
    },
    {
      "cell_type": "code",
      "metadata": {
        "id": "sP3hc8xoEF4y"
      },
      "source": [
        "from sklearn.model_selection import train_test_split\n",
        "x_train, x_test, y_train, y_test = train_test_split(x, y, test_size=0.30)"
      ],
      "execution_count": 53,
      "outputs": []
    },
    {
      "cell_type": "code",
      "metadata": {
        "id": "GARTfN5MGPMd"
      },
      "source": [
        "x_train, x_val, y_train, y_val = train_test_split(x, y, test_size=0.30)"
      ],
      "execution_count": 54,
      "outputs": []
    },
    {
      "cell_type": "code",
      "metadata": {
        "colab": {
          "base_uri": "https://localhost:8080/"
        },
        "id": "uhBFG2yd7e_o",
        "outputId": "a5615e47-1bc9-445f-e656-ae2553d8a4db"
      },
      "source": [
        "print(len(x_test))\n",
        "print(len(x_train))"
      ],
      "execution_count": 38,
      "outputs": [
        {
          "output_type": "stream",
          "text": [
            "85443\n",
            "199364\n"
          ],
          "name": "stdout"
        }
      ]
    },
    {
      "cell_type": "code",
      "metadata": {
        "id": "_qmeqt8xHX7V"
      },
      "source": [
        "from tensorflow.keras import models\n",
        "from tensorflow.keras import layers\n",
        "model= models.Sequential()\n",
        "model.add(layers.Dense(10, activation=\"relu\"))\n",
        "model.add(layers.Dense(8, activation=\"relu\"))\n",
        "model.add(layers.Dense(6, activation=\"relu\"))\n",
        "model.add(layers.Dense(1,activation=\"sigmoid\", input_shape=(284807*31, )))"
      ],
      "execution_count": 39,
      "outputs": []
    },
    {
      "cell_type": "code",
      "metadata": {
        "id": "7D70GvL-HYCJ"
      },
      "source": [
        "model.compile(optimizer=\"rmsprop\",loss=\"binary_crossentropy\",metrics=[\"accuracy\"])"
      ],
      "execution_count": 40,
      "outputs": []
    },
    {
      "cell_type": "code",
      "metadata": {
        "id": "LZs8U-bCHYFa",
        "colab": {
          "base_uri": "https://localhost:8080/"
        },
        "outputId": "2bd0c0cc-d8d0-453b-c582-6f50c58e42cf"
      },
      "source": [
        "model.fit(x_train,y_train,epochs=100,batch_size=1000)"
      ],
      "execution_count": 42,
      "outputs": [
        {
          "output_type": "stream",
          "text": [
            "Epoch 1/100\n",
            "6231/6231 [==============================] - 10s 1ms/step - loss: 1065.6185 - accuracy: 0.9112\n",
            "Epoch 2/100\n",
            "6231/6231 [==============================] - 9s 1ms/step - loss: 3.1511 - accuracy: 0.9848\n",
            "Epoch 3/100\n",
            "6231/6231 [==============================] - 9s 1ms/step - loss: 2.6525 - accuracy: 0.9845\n",
            "Epoch 4/100\n",
            "6231/6231 [==============================] - 9s 1ms/step - loss: 1.8834 - accuracy: 0.9855\n",
            "Epoch 5/100\n",
            "6231/6231 [==============================] - 9s 1ms/step - loss: 1.1544 - accuracy: 0.9852\n",
            "Epoch 6/100\n",
            "6231/6231 [==============================] - 9s 1ms/step - loss: 1.1972 - accuracy: 0.9855\n",
            "Epoch 7/100\n",
            "6231/6231 [==============================] - 8s 1ms/step - loss: 1.0385 - accuracy: 0.9851\n",
            "Epoch 8/100\n",
            "6231/6231 [==============================] - 8s 1ms/step - loss: 1.2257 - accuracy: 0.9874\n",
            "Epoch 9/100\n",
            "6231/6231 [==============================] - 8s 1ms/step - loss: 0.9109 - accuracy: 0.9856\n",
            "Epoch 10/100\n",
            "6231/6231 [==============================] - 9s 1ms/step - loss: 0.7941 - accuracy: 0.9860\n",
            "Epoch 11/100\n",
            "6231/6231 [==============================] - 8s 1ms/step - loss: 0.8026 - accuracy: 0.9856\n",
            "Epoch 12/100\n",
            "6231/6231 [==============================] - 8s 1ms/step - loss: 0.8735 - accuracy: 0.9866\n",
            "Epoch 13/100\n",
            "6231/6231 [==============================] - 8s 1ms/step - loss: 0.7999 - accuracy: 0.9864\n",
            "Epoch 14/100\n",
            "6231/6231 [==============================] - 8s 1ms/step - loss: 0.6493 - accuracy: 0.9869\n",
            "Epoch 15/100\n",
            "6231/6231 [==============================] - 8s 1ms/step - loss: 0.6060 - accuracy: 0.9873\n",
            "Epoch 16/100\n",
            "6231/6231 [==============================] - 8s 1ms/step - loss: 0.5481 - accuracy: 0.9862\n",
            "Epoch 17/100\n",
            "6231/6231 [==============================] - 9s 1ms/step - loss: 0.3608 - accuracy: 0.9900\n",
            "Epoch 18/100\n",
            "6231/6231 [==============================] - 8s 1ms/step - loss: 0.2198 - accuracy: 0.9915\n",
            "Epoch 19/100\n",
            "6231/6231 [==============================] - 8s 1ms/step - loss: 0.1783 - accuracy: 0.9921\n",
            "Epoch 20/100\n",
            "6231/6231 [==============================] - 9s 1ms/step - loss: 0.1422 - accuracy: 0.9982\n",
            "Epoch 21/100\n",
            "6231/6231 [==============================] - 8s 1ms/step - loss: 0.1637 - accuracy: 0.9983\n",
            "Epoch 22/100\n",
            "6231/6231 [==============================] - 9s 1ms/step - loss: 0.1514 - accuracy: 0.9982\n",
            "Epoch 23/100\n",
            "6231/6231 [==============================] - 9s 1ms/step - loss: 0.0889 - accuracy: 0.9983\n",
            "Epoch 24/100\n",
            "6231/6231 [==============================] - 9s 1ms/step - loss: 0.0613 - accuracy: 0.9982\n",
            "Epoch 25/100\n",
            "6231/6231 [==============================] - 8s 1ms/step - loss: 0.0523 - accuracy: 0.9980\n",
            "Epoch 26/100\n",
            "6231/6231 [==============================] - 9s 1ms/step - loss: 0.0469 - accuracy: 0.9982\n",
            "Epoch 27/100\n",
            "6231/6231 [==============================] - 9s 1ms/step - loss: 0.0429 - accuracy: 0.9957\n",
            "Epoch 28/100\n",
            "6231/6231 [==============================] - 9s 1ms/step - loss: 0.0429 - accuracy: 0.9980\n",
            "Epoch 29/100\n",
            "6231/6231 [==============================] - 8s 1ms/step - loss: 0.0408 - accuracy: 0.9980\n",
            "Epoch 30/100\n",
            "6231/6231 [==============================] - 9s 1ms/step - loss: 0.0331 - accuracy: 0.9975\n",
            "Epoch 31/100\n",
            "6231/6231 [==============================] - 9s 1ms/step - loss: 0.0624 - accuracy: 0.9965\n",
            "Epoch 32/100\n",
            "6231/6231 [==============================] - 8s 1ms/step - loss: 0.0425 - accuracy: 0.9971\n",
            "Epoch 33/100\n",
            "6231/6231 [==============================] - 9s 1ms/step - loss: 0.0321 - accuracy: 0.9968\n",
            "Epoch 34/100\n",
            "6231/6231 [==============================] - 9s 1ms/step - loss: 0.0738 - accuracy: 0.9979\n",
            "Epoch 35/100\n",
            "6231/6231 [==============================] - 9s 1ms/step - loss: 0.0769 - accuracy: 0.9942\n",
            "Epoch 36/100\n",
            "6231/6231 [==============================] - 8s 1ms/step - loss: 0.0997 - accuracy: 0.9922\n",
            "Epoch 37/100\n",
            "6231/6231 [==============================] - 9s 1ms/step - loss: 0.0949 - accuracy: 0.9919\n",
            "Epoch 38/100\n",
            "6231/6231 [==============================] - 9s 1ms/step - loss: 0.1015 - accuracy: 0.9937\n",
            "Epoch 39/100\n",
            "6231/6231 [==============================] - 9s 1ms/step - loss: 0.0539 - accuracy: 0.9981\n",
            "Epoch 40/100\n",
            "6231/6231 [==============================] - 8s 1ms/step - loss: 0.0877 - accuracy: 0.9947\n",
            "Epoch 41/100\n",
            "6231/6231 [==============================] - 9s 1ms/step - loss: 0.0482 - accuracy: 0.9961\n",
            "Epoch 42/100\n",
            "6231/6231 [==============================] - 9s 1ms/step - loss: 0.0371 - accuracy: 0.9979\n",
            "Epoch 43/100\n",
            "6231/6231 [==============================] - 9s 1ms/step - loss: 0.0271 - accuracy: 0.9979\n",
            "Epoch 44/100\n",
            "6231/6231 [==============================] - 9s 1ms/step - loss: 0.0377 - accuracy: 0.9978\n",
            "Epoch 45/100\n",
            "6231/6231 [==============================] - 9s 1ms/step - loss: 0.0460 - accuracy: 0.9979\n",
            "Epoch 46/100\n",
            "6231/6231 [==============================] - 9s 1ms/step - loss: 0.0434 - accuracy: 0.9981\n",
            "Epoch 47/100\n",
            "6231/6231 [==============================] - 9s 1ms/step - loss: 0.0662 - accuracy: 0.9972\n",
            "Epoch 48/100\n",
            "6231/6231 [==============================] - 9s 1ms/step - loss: 0.0522 - accuracy: 0.9980\n",
            "Epoch 49/100\n",
            "6231/6231 [==============================] - 8s 1ms/step - loss: 0.0498 - accuracy: 0.9978\n",
            "Epoch 50/100\n",
            "6231/6231 [==============================] - 9s 1ms/step - loss: 0.0307 - accuracy: 0.9981\n",
            "Epoch 51/100\n",
            "6231/6231 [==============================] - 9s 1ms/step - loss: 0.0732 - accuracy: 0.9974\n",
            "Epoch 52/100\n",
            "6231/6231 [==============================] - 9s 1ms/step - loss: 0.0362 - accuracy: 0.9976\n",
            "Epoch 53/100\n",
            "6231/6231 [==============================] - 9s 1ms/step - loss: 0.0440 - accuracy: 0.9982\n",
            "Epoch 54/100\n",
            "6231/6231 [==============================] - 9s 1ms/step - loss: 0.0722 - accuracy: 0.9976\n",
            "Epoch 55/100\n",
            "6231/6231 [==============================] - 9s 1ms/step - loss: 0.0477 - accuracy: 0.9974\n",
            "Epoch 56/100\n",
            "6231/6231 [==============================] - 9s 1ms/step - loss: 0.0436 - accuracy: 0.9976\n",
            "Epoch 57/100\n",
            "6231/6231 [==============================] - 8s 1ms/step - loss: 0.0428 - accuracy: 0.9980\n",
            "Epoch 58/100\n",
            "6231/6231 [==============================] - 9s 1ms/step - loss: 0.0407 - accuracy: 0.9976\n",
            "Epoch 59/100\n",
            "6231/6231 [==============================] - 10s 2ms/step - loss: 0.0888 - accuracy: 0.9976\n",
            "Epoch 60/100\n",
            "6231/6231 [==============================] - 9s 1ms/step - loss: 0.0503 - accuracy: 0.9978\n",
            "Epoch 61/100\n",
            "6231/6231 [==============================] - 9s 1ms/step - loss: 0.0551 - accuracy: 0.9974\n",
            "Epoch 62/100\n",
            "6231/6231 [==============================] - 9s 1ms/step - loss: 0.0897 - accuracy: 0.9980\n",
            "Epoch 63/100\n",
            "6231/6231 [==============================] - 9s 1ms/step - loss: 0.0611 - accuracy: 0.9974\n",
            "Epoch 64/100\n",
            "6231/6231 [==============================] - 9s 1ms/step - loss: 0.0912 - accuracy: 0.9979\n",
            "Epoch 65/100\n",
            "6231/6231 [==============================] - 9s 1ms/step - loss: 0.0437 - accuracy: 0.9981\n",
            "Epoch 66/100\n",
            "6231/6231 [==============================] - 8s 1ms/step - loss: 0.0676 - accuracy: 0.9979\n",
            "Epoch 67/100\n",
            "6231/6231 [==============================] - 8s 1ms/step - loss: 0.0511 - accuracy: 0.9977\n",
            "Epoch 68/100\n",
            "6231/6231 [==============================] - 8s 1ms/step - loss: 0.0787 - accuracy: 0.9977\n",
            "Epoch 69/100\n",
            "6231/6231 [==============================] - 8s 1ms/step - loss: 0.0843 - accuracy: 0.9977\n",
            "Epoch 70/100\n",
            "6231/6231 [==============================] - 8s 1ms/step - loss: 0.0604 - accuracy: 0.9973\n",
            "Epoch 71/100\n",
            "6231/6231 [==============================] - 8s 1ms/step - loss: 0.0709 - accuracy: 0.9979\n",
            "Epoch 72/100\n",
            "6231/6231 [==============================] - 8s 1ms/step - loss: 0.0620 - accuracy: 0.9979\n",
            "Epoch 73/100\n",
            "6231/6231 [==============================] - 8s 1ms/step - loss: 0.0594 - accuracy: 0.9980\n",
            "Epoch 74/100\n",
            "6231/6231 [==============================] - 8s 1ms/step - loss: 0.0688 - accuracy: 0.9976\n",
            "Epoch 75/100\n",
            "6231/6231 [==============================] - 8s 1ms/step - loss: 0.0708 - accuracy: 0.9974\n",
            "Epoch 76/100\n",
            "6231/6231 [==============================] - 8s 1ms/step - loss: 0.0537 - accuracy: 0.9971\n",
            "Epoch 77/100\n",
            "6231/6231 [==============================] - 8s 1ms/step - loss: 0.0493 - accuracy: 0.9977\n",
            "Epoch 78/100\n",
            "6231/6231 [==============================] - 8s 1ms/step - loss: 0.0836 - accuracy: 0.9978\n",
            "Epoch 79/100\n",
            "6231/6231 [==============================] - 8s 1ms/step - loss: 0.1102 - accuracy: 0.9973\n",
            "Epoch 80/100\n",
            "6231/6231 [==============================] - 8s 1ms/step - loss: 0.0595 - accuracy: 0.9979\n",
            "Epoch 81/100\n",
            "6231/6231 [==============================] - 8s 1ms/step - loss: 0.0435 - accuracy: 0.9978\n",
            "Epoch 82/100\n",
            "6231/6231 [==============================] - 8s 1ms/step - loss: 0.0718 - accuracy: 0.9982\n",
            "Epoch 83/100\n",
            "6231/6231 [==============================] - 8s 1ms/step - loss: 0.0609 - accuracy: 0.9981\n",
            "Epoch 84/100\n",
            "6231/6231 [==============================] - 8s 1ms/step - loss: 0.0523 - accuracy: 0.9975\n",
            "Epoch 85/100\n",
            "6231/6231 [==============================] - 9s 1ms/step - loss: 0.2281 - accuracy: 0.9974\n",
            "Epoch 86/100\n",
            "6231/6231 [==============================] - 8s 1ms/step - loss: 0.0544 - accuracy: 0.9976\n",
            "Epoch 87/100\n",
            "6231/6231 [==============================] - 8s 1ms/step - loss: 0.0455 - accuracy: 0.9980\n",
            "Epoch 88/100\n",
            "6231/6231 [==============================] - 9s 1ms/step - loss: 0.0609 - accuracy: 0.9974\n",
            "Epoch 89/100\n",
            "6231/6231 [==============================] - 8s 1ms/step - loss: 0.0776 - accuracy: 0.9979\n",
            "Epoch 90/100\n",
            "6231/6231 [==============================] - 8s 1ms/step - loss: 0.0769 - accuracy: 0.9978\n",
            "Epoch 91/100\n",
            "6231/6231 [==============================] - 8s 1ms/step - loss: 0.0865 - accuracy: 0.9980\n",
            "Epoch 92/100\n",
            "6231/6231 [==============================] - 8s 1ms/step - loss: 0.0928 - accuracy: 0.9970\n",
            "Epoch 93/100\n",
            "6231/6231 [==============================] - 8s 1ms/step - loss: 0.0580 - accuracy: 0.9977\n",
            "Epoch 94/100\n",
            "6231/6231 [==============================] - 8s 1ms/step - loss: 0.0512 - accuracy: 0.9978\n",
            "Epoch 95/100\n",
            "6231/6231 [==============================] - 9s 1ms/step - loss: 0.0949 - accuracy: 0.9971\n",
            "Epoch 96/100\n",
            "6231/6231 [==============================] - 8s 1ms/step - loss: 0.0785 - accuracy: 0.9974\n",
            "Epoch 97/100\n",
            "6231/6231 [==============================] - 8s 1ms/step - loss: 0.0629 - accuracy: 0.9978\n",
            "Epoch 98/100\n",
            "6231/6231 [==============================] - 8s 1ms/step - loss: 0.0602 - accuracy: 0.9980\n",
            "Epoch 99/100\n",
            "6231/6231 [==============================] - 8s 1ms/step - loss: 0.0933 - accuracy: 0.9980\n",
            "Epoch 100/100\n",
            "6231/6231 [==============================] - 8s 1ms/step - loss: 0.0625 - accuracy: 0.9976\n"
          ],
          "name": "stdout"
        },
        {
          "output_type": "execute_result",
          "data": {
            "text/plain": [
              "<tensorflow.python.keras.callbacks.History at 0x7f7100812310>"
            ]
          },
          "metadata": {
            "tags": []
          },
          "execution_count": 42
        }
      ]
    },
    {
      "cell_type": "code",
      "metadata": {
        "id": "ywifacppHYI4",
        "colab": {
          "base_uri": "https://localhost:8080/"
        },
        "outputId": "8c191d82-b83c-44c9-cab0-168edef6ebac"
      },
      "source": [
        "model.fit(x_train,y_train,epochs=100,batch_size=1000)"
      ],
      "execution_count": 44,
      "outputs": [
        {
          "output_type": "stream",
          "text": [
            "Epoch 1/100\n",
            "200/200 [==============================] - 0s 2ms/step - loss: 0.0552 - accuracy: 0.9979\n",
            "Epoch 2/100\n",
            "200/200 [==============================] - 0s 2ms/step - loss: 0.0370 - accuracy: 0.9980\n",
            "Epoch 3/100\n",
            "200/200 [==============================] - 0s 2ms/step - loss: 0.0160 - accuracy: 0.9982\n",
            "Epoch 4/100\n",
            "200/200 [==============================] - 0s 2ms/step - loss: 0.0258 - accuracy: 0.9980\n",
            "Epoch 5/100\n",
            "200/200 [==============================] - 0s 2ms/step - loss: 0.0237 - accuracy: 0.9981\n",
            "Epoch 6/100\n",
            "200/200 [==============================] - 0s 2ms/step - loss: 0.0182 - accuracy: 0.9982\n",
            "Epoch 7/100\n",
            "200/200 [==============================] - 0s 2ms/step - loss: 0.0137 - accuracy: 0.9982\n",
            "Epoch 8/100\n",
            "200/200 [==============================] - 0s 2ms/step - loss: 0.0269 - accuracy: 0.9981\n",
            "Epoch 9/100\n",
            "200/200 [==============================] - 0s 2ms/step - loss: 0.0166 - accuracy: 0.9981\n",
            "Epoch 10/100\n",
            "200/200 [==============================] - 0s 2ms/step - loss: 0.0144 - accuracy: 0.9982\n",
            "Epoch 11/100\n",
            "200/200 [==============================] - 0s 2ms/step - loss: 0.0150 - accuracy: 0.9982\n",
            "Epoch 12/100\n",
            "200/200 [==============================] - 0s 2ms/step - loss: 0.0199 - accuracy: 0.9978\n",
            "Epoch 13/100\n",
            "200/200 [==============================] - 0s 2ms/step - loss: 0.0172 - accuracy: 0.9981\n",
            "Epoch 14/100\n",
            "200/200 [==============================] - 0s 2ms/step - loss: 0.0152 - accuracy: 0.9981\n",
            "Epoch 15/100\n",
            "200/200 [==============================] - 0s 2ms/step - loss: 0.0182 - accuracy: 0.9980\n",
            "Epoch 16/100\n",
            "200/200 [==============================] - 0s 2ms/step - loss: 0.0148 - accuracy: 0.9981\n",
            "Epoch 17/100\n",
            "200/200 [==============================] - 0s 2ms/step - loss: 0.0302 - accuracy: 0.9952\n",
            "Epoch 18/100\n",
            "200/200 [==============================] - 0s 2ms/step - loss: 0.0171 - accuracy: 0.9980\n",
            "Epoch 19/100\n",
            "200/200 [==============================] - 0s 2ms/step - loss: 0.0152 - accuracy: 0.9981\n",
            "Epoch 20/100\n",
            "200/200 [==============================] - 0s 2ms/step - loss: 0.0147 - accuracy: 0.9982\n",
            "Epoch 21/100\n",
            "200/200 [==============================] - 0s 2ms/step - loss: 0.0141 - accuracy: 0.9982\n",
            "Epoch 22/100\n",
            "200/200 [==============================] - 0s 2ms/step - loss: 0.0141 - accuracy: 0.9982\n",
            "Epoch 23/100\n",
            "200/200 [==============================] - 0s 2ms/step - loss: 0.0139 - accuracy: 0.9982\n",
            "Epoch 24/100\n",
            "200/200 [==============================] - 0s 2ms/step - loss: 0.0162 - accuracy: 0.9980\n",
            "Epoch 25/100\n",
            "200/200 [==============================] - 0s 2ms/step - loss: 0.0141 - accuracy: 0.9982\n",
            "Epoch 26/100\n",
            "200/200 [==============================] - 0s 2ms/step - loss: 0.0144 - accuracy: 0.9982\n",
            "Epoch 27/100\n",
            "200/200 [==============================] - 0s 2ms/step - loss: 0.0138 - accuracy: 0.9982\n",
            "Epoch 28/100\n",
            "200/200 [==============================] - 0s 2ms/step - loss: 0.0139 - accuracy: 0.9982\n",
            "Epoch 29/100\n",
            "200/200 [==============================] - 0s 2ms/step - loss: 0.0152 - accuracy: 0.9981\n",
            "Epoch 30/100\n",
            "200/200 [==============================] - 0s 2ms/step - loss: 0.0194 - accuracy: 0.9976\n",
            "Epoch 31/100\n",
            "200/200 [==============================] - 0s 2ms/step - loss: 0.0189 - accuracy: 0.9976\n",
            "Epoch 32/100\n",
            "200/200 [==============================] - 0s 2ms/step - loss: 0.0173 - accuracy: 0.9979\n",
            "Epoch 33/100\n",
            "200/200 [==============================] - 0s 2ms/step - loss: 0.0139 - accuracy: 0.9982\n",
            "Epoch 34/100\n",
            "200/200 [==============================] - 0s 2ms/step - loss: 0.0148 - accuracy: 0.9981\n",
            "Epoch 35/100\n",
            "200/200 [==============================] - 0s 2ms/step - loss: 0.0161 - accuracy: 0.9980\n",
            "Epoch 36/100\n",
            "200/200 [==============================] - 0s 2ms/step - loss: 0.0159 - accuracy: 0.9982\n",
            "Epoch 37/100\n",
            "200/200 [==============================] - 0s 2ms/step - loss: 0.0136 - accuracy: 0.9982\n",
            "Epoch 38/100\n",
            "200/200 [==============================] - 0s 2ms/step - loss: 0.0155 - accuracy: 0.9978\n",
            "Epoch 39/100\n",
            "200/200 [==============================] - 0s 2ms/step - loss: 0.0139 - accuracy: 0.9982\n",
            "Epoch 40/100\n",
            "200/200 [==============================] - 0s 2ms/step - loss: 0.0157 - accuracy: 0.9982\n",
            "Epoch 41/100\n",
            "200/200 [==============================] - 0s 2ms/step - loss: 0.0147 - accuracy: 0.9981\n",
            "Epoch 42/100\n",
            "200/200 [==============================] - 0s 2ms/step - loss: 0.0139 - accuracy: 0.9982\n",
            "Epoch 43/100\n",
            "200/200 [==============================] - 0s 2ms/step - loss: 0.0242 - accuracy: 0.9968\n",
            "Epoch 44/100\n",
            "200/200 [==============================] - 0s 2ms/step - loss: 0.0160 - accuracy: 0.9981\n",
            "Epoch 45/100\n",
            "200/200 [==============================] - 0s 2ms/step - loss: 0.0329 - accuracy: 0.9957\n",
            "Epoch 46/100\n",
            "200/200 [==============================] - 0s 2ms/step - loss: 0.0135 - accuracy: 0.9982\n",
            "Epoch 47/100\n",
            "200/200 [==============================] - 0s 2ms/step - loss: 0.0147 - accuracy: 0.9981\n",
            "Epoch 48/100\n",
            "200/200 [==============================] - 0s 2ms/step - loss: 0.0145 - accuracy: 0.9980\n",
            "Epoch 49/100\n",
            "200/200 [==============================] - 0s 2ms/step - loss: 0.0143 - accuracy: 0.9980\n",
            "Epoch 50/100\n",
            "200/200 [==============================] - 0s 2ms/step - loss: 0.0142 - accuracy: 0.9981\n",
            "Epoch 51/100\n",
            "200/200 [==============================] - 0s 2ms/step - loss: 0.0182 - accuracy: 0.9972\n",
            "Epoch 52/100\n",
            "200/200 [==============================] - 0s 2ms/step - loss: 0.0149 - accuracy: 0.9981\n",
            "Epoch 53/100\n",
            "200/200 [==============================] - 0s 2ms/step - loss: 0.0143 - accuracy: 0.9982\n",
            "Epoch 54/100\n",
            "200/200 [==============================] - 0s 2ms/step - loss: 0.0136 - accuracy: 0.9982\n",
            "Epoch 55/100\n",
            "200/200 [==============================] - 0s 2ms/step - loss: 0.0135 - accuracy: 0.9982\n",
            "Epoch 56/100\n",
            "200/200 [==============================] - 0s 2ms/step - loss: 0.0144 - accuracy: 0.9982\n",
            "Epoch 57/100\n",
            "200/200 [==============================] - 0s 2ms/step - loss: 0.0157 - accuracy: 0.9981\n",
            "Epoch 58/100\n",
            "200/200 [==============================] - 0s 2ms/step - loss: 0.0135 - accuracy: 0.9982\n",
            "Epoch 59/100\n",
            "200/200 [==============================] - 0s 2ms/step - loss: 0.0138 - accuracy: 0.9982\n",
            "Epoch 60/100\n",
            "200/200 [==============================] - 0s 2ms/step - loss: 0.0158 - accuracy: 0.9980\n",
            "Epoch 61/100\n",
            "200/200 [==============================] - 0s 2ms/step - loss: 0.0159 - accuracy: 0.9979\n",
            "Epoch 62/100\n",
            "200/200 [==============================] - 0s 2ms/step - loss: 0.0167 - accuracy: 0.9964\n",
            "Epoch 63/100\n",
            "200/200 [==============================] - 0s 2ms/step - loss: 0.0140 - accuracy: 0.9982\n",
            "Epoch 64/100\n",
            "200/200 [==============================] - 0s 2ms/step - loss: 0.0146 - accuracy: 0.9979\n",
            "Epoch 65/100\n",
            "200/200 [==============================] - 0s 2ms/step - loss: 0.0141 - accuracy: 0.9981\n",
            "Epoch 66/100\n",
            "200/200 [==============================] - 0s 2ms/step - loss: 0.0135 - accuracy: 0.9982\n",
            "Epoch 67/100\n",
            "200/200 [==============================] - 0s 2ms/step - loss: 0.0171 - accuracy: 0.9980\n",
            "Epoch 68/100\n",
            "200/200 [==============================] - 0s 2ms/step - loss: 0.0222 - accuracy: 0.9978\n",
            "Epoch 69/100\n",
            "200/200 [==============================] - 0s 2ms/step - loss: 0.0137 - accuracy: 0.9981\n",
            "Epoch 70/100\n",
            "200/200 [==============================] - 0s 2ms/step - loss: 0.0144 - accuracy: 0.9981\n",
            "Epoch 71/100\n",
            "200/200 [==============================] - 0s 2ms/step - loss: 0.0149 - accuracy: 0.9980\n",
            "Epoch 72/100\n",
            "200/200 [==============================] - 0s 2ms/step - loss: 0.0291 - accuracy: 0.9970\n",
            "Epoch 73/100\n",
            "200/200 [==============================] - 0s 2ms/step - loss: 0.0161 - accuracy: 0.9981\n",
            "Epoch 74/100\n",
            "200/200 [==============================] - 0s 2ms/step - loss: 0.0161 - accuracy: 0.9980\n",
            "Epoch 75/100\n",
            "200/200 [==============================] - 0s 2ms/step - loss: 0.0308 - accuracy: 0.9946\n",
            "Epoch 76/100\n",
            "200/200 [==============================] - 0s 2ms/step - loss: 0.0147 - accuracy: 0.9982\n",
            "Epoch 77/100\n",
            "200/200 [==============================] - 0s 2ms/step - loss: 0.0142 - accuracy: 0.9981\n",
            "Epoch 78/100\n",
            "200/200 [==============================] - 0s 2ms/step - loss: 0.0163 - accuracy: 0.9980\n",
            "Epoch 79/100\n",
            "200/200 [==============================] - 0s 2ms/step - loss: 0.0518 - accuracy: 0.9935\n",
            "Epoch 80/100\n",
            "200/200 [==============================] - 0s 2ms/step - loss: 0.0139 - accuracy: 0.9982\n",
            "Epoch 81/100\n",
            "200/200 [==============================] - 0s 2ms/step - loss: 0.0433 - accuracy: 0.9939\n",
            "Epoch 82/100\n",
            "200/200 [==============================] - 0s 2ms/step - loss: 0.0143 - accuracy: 0.9982\n",
            "Epoch 83/100\n",
            "200/200 [==============================] - 0s 2ms/step - loss: 0.0276 - accuracy: 0.9966\n",
            "Epoch 84/100\n",
            "200/200 [==============================] - 0s 2ms/step - loss: 0.0134 - accuracy: 0.9982\n",
            "Epoch 85/100\n",
            "200/200 [==============================] - 0s 2ms/step - loss: 0.0145 - accuracy: 0.9981\n",
            "Epoch 86/100\n",
            "200/200 [==============================] - 0s 2ms/step - loss: 0.0199 - accuracy: 0.9979\n",
            "Epoch 87/100\n",
            "200/200 [==============================] - 0s 2ms/step - loss: 0.0158 - accuracy: 0.9981\n",
            "Epoch 88/100\n",
            "200/200 [==============================] - 0s 2ms/step - loss: 0.0139 - accuracy: 0.9981\n",
            "Epoch 89/100\n",
            "200/200 [==============================] - 0s 2ms/step - loss: 0.0161 - accuracy: 0.9980\n",
            "Epoch 90/100\n",
            "200/200 [==============================] - 0s 2ms/step - loss: 0.0136 - accuracy: 0.9982\n",
            "Epoch 91/100\n",
            "200/200 [==============================] - 0s 2ms/step - loss: 0.0152 - accuracy: 0.9981\n",
            "Epoch 92/100\n",
            "200/200 [==============================] - 0s 2ms/step - loss: 0.0163 - accuracy: 0.9979\n",
            "Epoch 93/100\n",
            "200/200 [==============================] - 0s 2ms/step - loss: 0.0149 - accuracy: 0.9981\n",
            "Epoch 94/100\n",
            "200/200 [==============================] - 0s 2ms/step - loss: 0.0144 - accuracy: 0.9981\n",
            "Epoch 95/100\n",
            "200/200 [==============================] - 0s 2ms/step - loss: 0.0166 - accuracy: 0.9978\n",
            "Epoch 96/100\n",
            "200/200 [==============================] - 0s 2ms/step - loss: 0.0134 - accuracy: 0.9982\n",
            "Epoch 97/100\n",
            "200/200 [==============================] - 0s 2ms/step - loss: 0.0242 - accuracy: 0.9951\n",
            "Epoch 98/100\n",
            "200/200 [==============================] - 0s 2ms/step - loss: 0.0134 - accuracy: 0.9982\n",
            "Epoch 99/100\n",
            "200/200 [==============================] - 0s 2ms/step - loss: 0.0136 - accuracy: 0.9981\n",
            "Epoch 100/100\n",
            "200/200 [==============================] - 0s 2ms/step - loss: 0.0148 - accuracy: 0.9982\n"
          ],
          "name": "stdout"
        },
        {
          "output_type": "execute_result",
          "data": {
            "text/plain": [
              "<tensorflow.python.keras.callbacks.History at 0x7f70fe04d4d0>"
            ]
          },
          "metadata": {
            "tags": []
          },
          "execution_count": 44
        }
      ]
    },
    {
      "cell_type": "code",
      "metadata": {
        "id": "BGFb5TomHWgT"
      },
      "source": [
        "predict=model.predict(x_test)"
      ],
      "execution_count": 49,
      "outputs": []
    },
    {
      "cell_type": "code",
      "metadata": {
        "id": "Ob4A5_FAFz_4",
        "colab": {
          "base_uri": "https://localhost:8080/"
        },
        "outputId": "3e8b6613-7f2b-49d0-a820-f75f464073d5"
      },
      "source": [
        "model.evaluate(x_test,y_test)"
      ],
      "execution_count": 52,
      "outputs": [
        {
          "output_type": "stream",
          "text": [
            "2671/2671 [==============================] - 3s 1ms/step - loss: 0.0146 - accuracy: 0.9984\n"
          ],
          "name": "stdout"
        },
        {
          "output_type": "execute_result",
          "data": {
            "text/plain": [
              "[0.01463401224464178, 0.9984316825866699]"
            ]
          },
          "metadata": {
            "tags": []
          },
          "execution_count": 52
        }
      ]
    },
    {
      "cell_type": "code",
      "metadata": {
        "id": "PsYO3QArJ1vR"
      },
      "source": [
        ""
      ],
      "execution_count": 51,
      "outputs": []
    },
    {
      "cell_type": "code",
      "metadata": {
        "id": "zQJxV1RNKGxn"
      },
      "source": [
        ""
      ],
      "execution_count": null,
      "outputs": []
    }
  ]
}