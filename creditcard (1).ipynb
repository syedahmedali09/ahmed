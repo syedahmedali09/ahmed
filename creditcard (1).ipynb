{
  "nbformat": 4,
  "nbformat_minor": 0,
  "metadata": {
    "colab": {
      "name": "creditcard.ipynb",
      "provenance": []
    },
    "kernelspec": {
      "name": "python3",
      "display_name": "Python 3"
    },
    "language_info": {
      "name": "python"
    },
    "accelerator": "TPU"
  },
  "cells": [
    {
      "cell_type": "code",
      "metadata": {
        "colab": {
          "base_uri": "https://localhost:8080/",
          "height": 217
        },
        "id": "dfsQ8tQCCAsp",
        "outputId": "4e35ff8b-d575-4c10-a53a-cbaa02c76838"
      },
      "source": [
        "import pandas as pd\n",
        "cc_data=pd.read_csv(\"/content/creditcard.csv\")\n",
        "cc_data.head()\n"
      ],
      "execution_count": 137,
      "outputs": [
        {
          "output_type": "execute_result",
          "data": {
            "text/html": [
              "<div>\n",
              "<style scoped>\n",
              "    .dataframe tbody tr th:only-of-type {\n",
              "        vertical-align: middle;\n",
              "    }\n",
              "\n",
              "    .dataframe tbody tr th {\n",
              "        vertical-align: top;\n",
              "    }\n",
              "\n",
              "    .dataframe thead th {\n",
              "        text-align: right;\n",
              "    }\n",
              "</style>\n",
              "<table border=\"1\" class=\"dataframe\">\n",
              "  <thead>\n",
              "    <tr style=\"text-align: right;\">\n",
              "      <th></th>\n",
              "      <th>Time</th>\n",
              "      <th>V1</th>\n",
              "      <th>V2</th>\n",
              "      <th>V3</th>\n",
              "      <th>V4</th>\n",
              "      <th>V5</th>\n",
              "      <th>V6</th>\n",
              "      <th>V7</th>\n",
              "      <th>V8</th>\n",
              "      <th>V9</th>\n",
              "      <th>V10</th>\n",
              "      <th>V11</th>\n",
              "      <th>V12</th>\n",
              "      <th>V13</th>\n",
              "      <th>V14</th>\n",
              "      <th>V15</th>\n",
              "      <th>V16</th>\n",
              "      <th>V17</th>\n",
              "      <th>V18</th>\n",
              "      <th>V19</th>\n",
              "      <th>V20</th>\n",
              "      <th>V21</th>\n",
              "      <th>V22</th>\n",
              "      <th>V23</th>\n",
              "      <th>V24</th>\n",
              "      <th>V25</th>\n",
              "      <th>V26</th>\n",
              "      <th>V27</th>\n",
              "      <th>V28</th>\n",
              "      <th>Amount</th>\n",
              "      <th>Class</th>\n",
              "    </tr>\n",
              "  </thead>\n",
              "  <tbody>\n",
              "    <tr>\n",
              "      <th>0</th>\n",
              "      <td>0.0</td>\n",
              "      <td>-1.359807</td>\n",
              "      <td>-0.072781</td>\n",
              "      <td>2.536347</td>\n",
              "      <td>1.378155</td>\n",
              "      <td>-0.338321</td>\n",
              "      <td>0.462388</td>\n",
              "      <td>0.239599</td>\n",
              "      <td>0.098698</td>\n",
              "      <td>0.363787</td>\n",
              "      <td>0.090794</td>\n",
              "      <td>-0.551600</td>\n",
              "      <td>-0.617801</td>\n",
              "      <td>-0.991390</td>\n",
              "      <td>-0.311169</td>\n",
              "      <td>1.468177</td>\n",
              "      <td>-0.470401</td>\n",
              "      <td>0.207971</td>\n",
              "      <td>0.025791</td>\n",
              "      <td>0.403993</td>\n",
              "      <td>0.251412</td>\n",
              "      <td>-0.018307</td>\n",
              "      <td>0.277838</td>\n",
              "      <td>-0.110474</td>\n",
              "      <td>0.066928</td>\n",
              "      <td>0.128539</td>\n",
              "      <td>-0.189115</td>\n",
              "      <td>0.133558</td>\n",
              "      <td>-0.021053</td>\n",
              "      <td>149.62</td>\n",
              "      <td>0</td>\n",
              "    </tr>\n",
              "    <tr>\n",
              "      <th>1</th>\n",
              "      <td>0.0</td>\n",
              "      <td>1.191857</td>\n",
              "      <td>0.266151</td>\n",
              "      <td>0.166480</td>\n",
              "      <td>0.448154</td>\n",
              "      <td>0.060018</td>\n",
              "      <td>-0.082361</td>\n",
              "      <td>-0.078803</td>\n",
              "      <td>0.085102</td>\n",
              "      <td>-0.255425</td>\n",
              "      <td>-0.166974</td>\n",
              "      <td>1.612727</td>\n",
              "      <td>1.065235</td>\n",
              "      <td>0.489095</td>\n",
              "      <td>-0.143772</td>\n",
              "      <td>0.635558</td>\n",
              "      <td>0.463917</td>\n",
              "      <td>-0.114805</td>\n",
              "      <td>-0.183361</td>\n",
              "      <td>-0.145783</td>\n",
              "      <td>-0.069083</td>\n",
              "      <td>-0.225775</td>\n",
              "      <td>-0.638672</td>\n",
              "      <td>0.101288</td>\n",
              "      <td>-0.339846</td>\n",
              "      <td>0.167170</td>\n",
              "      <td>0.125895</td>\n",
              "      <td>-0.008983</td>\n",
              "      <td>0.014724</td>\n",
              "      <td>2.69</td>\n",
              "      <td>0</td>\n",
              "    </tr>\n",
              "    <tr>\n",
              "      <th>2</th>\n",
              "      <td>1.0</td>\n",
              "      <td>-1.358354</td>\n",
              "      <td>-1.340163</td>\n",
              "      <td>1.773209</td>\n",
              "      <td>0.379780</td>\n",
              "      <td>-0.503198</td>\n",
              "      <td>1.800499</td>\n",
              "      <td>0.791461</td>\n",
              "      <td>0.247676</td>\n",
              "      <td>-1.514654</td>\n",
              "      <td>0.207643</td>\n",
              "      <td>0.624501</td>\n",
              "      <td>0.066084</td>\n",
              "      <td>0.717293</td>\n",
              "      <td>-0.165946</td>\n",
              "      <td>2.345865</td>\n",
              "      <td>-2.890083</td>\n",
              "      <td>1.109969</td>\n",
              "      <td>-0.121359</td>\n",
              "      <td>-2.261857</td>\n",
              "      <td>0.524980</td>\n",
              "      <td>0.247998</td>\n",
              "      <td>0.771679</td>\n",
              "      <td>0.909412</td>\n",
              "      <td>-0.689281</td>\n",
              "      <td>-0.327642</td>\n",
              "      <td>-0.139097</td>\n",
              "      <td>-0.055353</td>\n",
              "      <td>-0.059752</td>\n",
              "      <td>378.66</td>\n",
              "      <td>0</td>\n",
              "    </tr>\n",
              "    <tr>\n",
              "      <th>3</th>\n",
              "      <td>1.0</td>\n",
              "      <td>-0.966272</td>\n",
              "      <td>-0.185226</td>\n",
              "      <td>1.792993</td>\n",
              "      <td>-0.863291</td>\n",
              "      <td>-0.010309</td>\n",
              "      <td>1.247203</td>\n",
              "      <td>0.237609</td>\n",
              "      <td>0.377436</td>\n",
              "      <td>-1.387024</td>\n",
              "      <td>-0.054952</td>\n",
              "      <td>-0.226487</td>\n",
              "      <td>0.178228</td>\n",
              "      <td>0.507757</td>\n",
              "      <td>-0.287924</td>\n",
              "      <td>-0.631418</td>\n",
              "      <td>-1.059647</td>\n",
              "      <td>-0.684093</td>\n",
              "      <td>1.965775</td>\n",
              "      <td>-1.232622</td>\n",
              "      <td>-0.208038</td>\n",
              "      <td>-0.108300</td>\n",
              "      <td>0.005274</td>\n",
              "      <td>-0.190321</td>\n",
              "      <td>-1.175575</td>\n",
              "      <td>0.647376</td>\n",
              "      <td>-0.221929</td>\n",
              "      <td>0.062723</td>\n",
              "      <td>0.061458</td>\n",
              "      <td>123.50</td>\n",
              "      <td>0</td>\n",
              "    </tr>\n",
              "    <tr>\n",
              "      <th>4</th>\n",
              "      <td>2.0</td>\n",
              "      <td>-1.158233</td>\n",
              "      <td>0.877737</td>\n",
              "      <td>1.548718</td>\n",
              "      <td>0.403034</td>\n",
              "      <td>-0.407193</td>\n",
              "      <td>0.095921</td>\n",
              "      <td>0.592941</td>\n",
              "      <td>-0.270533</td>\n",
              "      <td>0.817739</td>\n",
              "      <td>0.753074</td>\n",
              "      <td>-0.822843</td>\n",
              "      <td>0.538196</td>\n",
              "      <td>1.345852</td>\n",
              "      <td>-1.119670</td>\n",
              "      <td>0.175121</td>\n",
              "      <td>-0.451449</td>\n",
              "      <td>-0.237033</td>\n",
              "      <td>-0.038195</td>\n",
              "      <td>0.803487</td>\n",
              "      <td>0.408542</td>\n",
              "      <td>-0.009431</td>\n",
              "      <td>0.798278</td>\n",
              "      <td>-0.137458</td>\n",
              "      <td>0.141267</td>\n",
              "      <td>-0.206010</td>\n",
              "      <td>0.502292</td>\n",
              "      <td>0.219422</td>\n",
              "      <td>0.215153</td>\n",
              "      <td>69.99</td>\n",
              "      <td>0</td>\n",
              "    </tr>\n",
              "  </tbody>\n",
              "</table>\n",
              "</div>"
            ],
            "text/plain": [
              "   Time        V1        V2        V3  ...       V27       V28  Amount  Class\n",
              "0   0.0 -1.359807 -0.072781  2.536347  ...  0.133558 -0.021053  149.62      0\n",
              "1   0.0  1.191857  0.266151  0.166480  ... -0.008983  0.014724    2.69      0\n",
              "2   1.0 -1.358354 -1.340163  1.773209  ... -0.055353 -0.059752  378.66      0\n",
              "3   1.0 -0.966272 -0.185226  1.792993  ...  0.062723  0.061458  123.50      0\n",
              "4   2.0 -1.158233  0.877737  1.548718  ...  0.219422  0.215153   69.99      0\n",
              "\n",
              "[5 rows x 31 columns]"
            ]
          },
          "metadata": {
            "tags": []
          },
          "execution_count": 137
        }
      ]
    },
    {
      "cell_type": "code",
      "metadata": {
        "colab": {
          "base_uri": "https://localhost:8080/"
        },
        "id": "DytcYgcv3eMg",
        "outputId": "d62bf9fc-76d6-4bbc-b701-12b815fa3674"
      },
      "source": [
        "cc_data.isnull().sum()"
      ],
      "execution_count": 138,
      "outputs": [
        {
          "output_type": "execute_result",
          "data": {
            "text/plain": [
              "Time      0\n",
              "V1        0\n",
              "V2        0\n",
              "V3        0\n",
              "V4        0\n",
              "V5        0\n",
              "V6        0\n",
              "V7        0\n",
              "V8        0\n",
              "V9        0\n",
              "V10       0\n",
              "V11       0\n",
              "V12       0\n",
              "V13       0\n",
              "V14       0\n",
              "V15       0\n",
              "V16       0\n",
              "V17       0\n",
              "V18       0\n",
              "V19       0\n",
              "V20       0\n",
              "V21       0\n",
              "V22       0\n",
              "V23       0\n",
              "V24       0\n",
              "V25       0\n",
              "V26       0\n",
              "V27       0\n",
              "V28       0\n",
              "Amount    0\n",
              "Class     0\n",
              "dtype: int64"
            ]
          },
          "metadata": {
            "tags": []
          },
          "execution_count": 138
        }
      ]
    },
    {
      "cell_type": "code",
      "metadata": {
        "colab": {
          "base_uri": "https://localhost:8080/"
        },
        "id": "GpONtF5R3ePg",
        "outputId": "9ca3a59d-6a48-45b5-a6a3-190118570975"
      },
      "source": [
        "cc_data.shape"
      ],
      "execution_count": 139,
      "outputs": [
        {
          "output_type": "execute_result",
          "data": {
            "text/plain": [
              "(284807, 31)"
            ]
          },
          "metadata": {
            "tags": []
          },
          "execution_count": 139
        }
      ]
    },
    {
      "cell_type": "code",
      "metadata": {
        "colab": {
          "base_uri": "https://localhost:8080/"
        },
        "id": "BEyQBrfX5hNC",
        "outputId": "8831ed32-d995-4820-d1d3-56387f5e513f"
      },
      "source": [
        "284807//2\n",
        "\n"
      ],
      "execution_count": 140,
      "outputs": [
        {
          "output_type": "execute_result",
          "data": {
            "text/plain": [
              "142403"
            ]
          },
          "metadata": {
            "tags": []
          },
          "execution_count": 140
        }
      ]
    },
    {
      "cell_type": "code",
      "metadata": {
        "colab": {
          "base_uri": "https://localhost:8080/"
        },
        "id": "X4UE6GWh6ETg",
        "outputId": "12df71b8-0746-4fc0-bf3a-fca64198db1a"
      },
      "source": [
        "284807*30//100\n"
      ],
      "execution_count": 141,
      "outputs": [
        {
          "output_type": "execute_result",
          "data": {
            "text/plain": [
              "85442"
            ]
          },
          "metadata": {
            "tags": []
          },
          "execution_count": 141
        }
      ]
    },
    {
      "cell_type": "code",
      "metadata": {
        "colab": {
          "base_uri": "https://localhost:8080/"
        },
        "id": "DN38JS977HtL",
        "outputId": "faff0286-0421-4db4-9dc7-29e3fb234baf"
      },
      "source": [
        "142403+85442"
      ],
      "execution_count": 142,
      "outputs": [
        {
          "output_type": "execute_result",
          "data": {
            "text/plain": [
              "227845"
            ]
          },
          "metadata": {
            "tags": []
          },
          "execution_count": 142
        }
      ]
    },
    {
      "cell_type": "code",
      "metadata": {
        "colab": {
          "base_uri": "https://localhost:8080/"
        },
        "id": "0IYvqTjdxPgN",
        "outputId": "8e428bcd-db8a-4538-b998-f529277f7194"
      },
      "source": [
        "199364*20//100"
      ],
      "execution_count": 143,
      "outputs": [
        {
          "output_type": "execute_result",
          "data": {
            "text/plain": [
              "39872"
            ]
          },
          "metadata": {
            "tags": []
          },
          "execution_count": 143
        }
      ]
    },
    {
      "cell_type": "code",
      "metadata": {
        "colab": {
          "base_uri": "https://localhost:8080/"
        },
        "id": "fpFjC0bixf6s",
        "outputId": "171c490f-c315-46be-f638-087c440e043d"
      },
      "source": [
        "199364+39872"
      ],
      "execution_count": 144,
      "outputs": [
        {
          "output_type": "execute_result",
          "data": {
            "text/plain": [
              "239236"
            ]
          },
          "metadata": {
            "tags": []
          },
          "execution_count": 144
        }
      ]
    },
    {
      "cell_type": "code",
      "metadata": {
        "id": "tQa3iOzr5VqZ"
      },
      "source": [
        "#x=cc_data.iloc[:142403]\n",
        "#y= cc_data[142403:227845]\n",
        "#x_val= cc_data[227845:]"
      ],
      "execution_count": 145,
      "outputs": []
    },
    {
      "cell_type": "code",
      "metadata": {
        "id": "dC07Od2zEKZW"
      },
      "source": [
        "x=cc_data.iloc[:,:-1]\n",
        "y=cc_data[\"Class\"]"
      ],
      "execution_count": 146,
      "outputs": []
    },
    {
      "cell_type": "code",
      "metadata": {
        "colab": {
          "base_uri": "https://localhost:8080/"
        },
        "id": "K5H2SZMmo30L",
        "outputId": "fd527aa4-1ca8-4208-8f25-184bb12f0e3b"
      },
      "source": [
        "y"
      ],
      "execution_count": 147,
      "outputs": [
        {
          "output_type": "execute_result",
          "data": {
            "text/plain": [
              "0         0\n",
              "1         0\n",
              "2         0\n",
              "3         0\n",
              "4         0\n",
              "         ..\n",
              "284802    0\n",
              "284803    0\n",
              "284804    0\n",
              "284805    0\n",
              "284806    0\n",
              "Name: Class, Length: 284807, dtype: int64"
            ]
          },
          "metadata": {
            "tags": []
          },
          "execution_count": 147
        }
      ]
    },
    {
      "cell_type": "code",
      "metadata": {
        "id": "sP3hc8xoEF4y"
      },
      "source": [
        "from sklearn.model_selection import train_test_split\n",
        "x_train, x_test, y_train, y_test = train_test_split(x, y, test_size=0.30)"
      ],
      "execution_count": 148,
      "outputs": []
    },
    {
      "cell_type": "code",
      "metadata": {
        "id": "_qmeqt8xHX7V"
      },
      "source": [
        "from tensorflow.keras import models\n",
        "from tensorflow.keras import layers\n",
        "model= models.Sequential()\n",
        "model.add(layers.Dense(10, activation=\"relu\"))\n",
        "model.add(layers.Dense(8, activation=\"relu\"))\n",
        "model.add(layers.Dense(6, activation=\"relu\"))\n",
        "model.add(layers.Dense(1,activation=\"sigmoid\", input_shape=(284807*31, )))"
      ],
      "execution_count": 149,
      "outputs": []
    },
    {
      "cell_type": "code",
      "metadata": {
        "colab": {
          "base_uri": "https://localhost:8080/"
        },
        "id": "uhBFG2yd7e_o",
        "outputId": "d9ed68f1-a505-442e-f243-4f3a2b6f5da6"
      },
      "source": [
        "print(len(y_test))\n",
        "print(len(x_train))\n",
        "print(len(y_train))"
      ],
      "execution_count": 150,
      "outputs": [
        {
          "output_type": "stream",
          "text": [
            "85443\n",
            "199364\n",
            "199364\n"
          ],
          "name": "stdout"
        }
      ]
    },
    {
      "cell_type": "code",
      "metadata": {
        "id": "7D70GvL-HYCJ"
      },
      "source": [
        "model.compile(optimizer=\"rmsprop\",loss=\"binary_crossentropy\",metrics=[\"accuracy\"])"
      ],
      "execution_count": 151,
      "outputs": []
    },
    {
      "cell_type": "code",
      "metadata": {
        "id": "uK360F_mrt2o"
      },
      "source": [
        ""
      ],
      "execution_count": 151,
      "outputs": []
    },
    {
      "cell_type": "code",
      "metadata": {
        "id": "tENQSiu7okSu"
      },
      "source": [
        "x2=x_train.iloc[:,:-1]\n",
        "y2=y_train\n"
      ],
      "execution_count": 164,
      "outputs": []
    },
    {
      "cell_type": "code",
      "metadata": {
        "id": "xILaqZ0nyMcO"
      },
      "source": [
        ""
      ],
      "execution_count": 164,
      "outputs": []
    },
    {
      "cell_type": "code",
      "metadata": {
        "id": "uL9Q2XWQySsh"
      },
      "source": [
        ""
      ],
      "execution_count": 164,
      "outputs": []
    },
    {
      "cell_type": "code",
      "metadata": {
        "id": "FBXZvJINkZ-P"
      },
      "source": [
        "from sklearn.model_selection import train_test_split\n",
        "par_x_train, val_x_test, par_y_train, val_y_test = train_test_split(x2, y2, test_size=0.20)"
      ],
      "execution_count": 165,
      "outputs": []
    },
    {
      "cell_type": "code",
      "metadata": {
        "colab": {
          "base_uri": "https://localhost:8080/"
        },
        "id": "x53KccWMjRUL",
        "outputId": "1fdb4037-4e35-4abc-c08d-104a3d50678c"
      },
      "source": [
        "print(len(val_x_test))\n",
        "print(len(par_x_train))"
      ],
      "execution_count": 168,
      "outputs": [
        {
          "output_type": "stream",
          "text": [
            "39873\n",
            "159491\n"
          ],
          "name": "stdout"
        }
      ]
    },
    {
      "cell_type": "code",
      "metadata": {
        "id": "LZs8U-bCHYFa",
        "colab": {
          "base_uri": "https://localhost:8080/"
        },
        "outputId": "543ac53a-5c34-413c-9ea4-4f4e84c4592b"
      },
      "source": [
        "history=model.fit(par_x_train,par_y_train,epochs=100,batch_size=1000,validation_data=(val_x_test, val_y_test))\n"
      ],
      "execution_count": 167,
      "outputs": [
        {
          "output_type": "stream",
          "text": [
            "Epoch 1/100\n",
            "160/160 [==============================] - 1s 4ms/step - loss: 0.3975 - accuracy: 0.9919 - val_loss: 0.4549 - val_accuracy: 0.9984\n",
            "Epoch 2/100\n",
            "160/160 [==============================] - 0s 3ms/step - loss: 0.4152 - accuracy: 0.9876 - val_loss: 0.4248 - val_accuracy: 0.9984\n",
            "Epoch 3/100\n",
            "160/160 [==============================] - 0s 3ms/step - loss: 0.2684 - accuracy: 0.9935 - val_loss: 0.1209 - val_accuracy: 0.9987\n",
            "Epoch 4/100\n",
            "160/160 [==============================] - 0s 3ms/step - loss: 0.4799 - accuracy: 0.9869 - val_loss: 0.0536 - val_accuracy: 0.9989\n",
            "Epoch 5/100\n",
            "160/160 [==============================] - 0s 3ms/step - loss: 0.2950 - accuracy: 0.9922 - val_loss: 0.2996 - val_accuracy: 0.9984\n",
            "Epoch 6/100\n",
            "160/160 [==============================] - 0s 3ms/step - loss: 0.7968 - accuracy: 0.9894 - val_loss: 0.1019 - val_accuracy: 0.9988\n",
            "Epoch 7/100\n",
            "160/160 [==============================] - 0s 3ms/step - loss: 0.6487 - accuracy: 0.9878 - val_loss: 0.2209 - val_accuracy: 0.9986\n",
            "Epoch 8/100\n",
            "160/160 [==============================] - 0s 3ms/step - loss: 0.3613 - accuracy: 0.9882 - val_loss: 0.4267 - val_accuracy: 0.9985\n",
            "Epoch 9/100\n",
            "160/160 [==============================] - 0s 3ms/step - loss: 0.4860 - accuracy: 0.9904 - val_loss: 0.2035 - val_accuracy: 0.9986\n",
            "Epoch 10/100\n",
            "160/160 [==============================] - 0s 3ms/step - loss: 0.3306 - accuracy: 0.9921 - val_loss: 0.0358 - val_accuracy: 0.9989\n",
            "Epoch 11/100\n",
            "160/160 [==============================] - 0s 3ms/step - loss: 0.4040 - accuracy: 0.9873 - val_loss: 0.2262 - val_accuracy: 0.9986\n",
            "Epoch 12/100\n",
            "160/160 [==============================] - 0s 3ms/step - loss: 0.4517 - accuracy: 0.9895 - val_loss: 0.3562 - val_accuracy: 0.9984\n",
            "Epoch 13/100\n",
            "160/160 [==============================] - 0s 3ms/step - loss: 0.6388 - accuracy: 0.9863 - val_loss: 0.5136 - val_accuracy: 0.9984\n",
            "Epoch 14/100\n",
            "160/160 [==============================] - 0s 3ms/step - loss: 0.6843 - accuracy: 0.9886 - val_loss: 0.4568 - val_accuracy: 0.9984\n",
            "Epoch 15/100\n",
            "160/160 [==============================] - 0s 3ms/step - loss: 0.3142 - accuracy: 0.9908 - val_loss: 0.4085 - val_accuracy: 0.9985\n",
            "Epoch 16/100\n",
            "160/160 [==============================] - 0s 3ms/step - loss: 0.4694 - accuracy: 0.9894 - val_loss: 0.5081 - val_accuracy: 0.9984\n",
            "Epoch 17/100\n",
            "160/160 [==============================] - 0s 3ms/step - loss: 0.2324 - accuracy: 0.9979 - val_loss: 0.0742 - val_accuracy: 0.9988\n",
            "Epoch 18/100\n",
            "160/160 [==============================] - 0s 3ms/step - loss: 0.4545 - accuracy: 0.9871 - val_loss: 0.0372 - val_accuracy: 0.9988\n",
            "Epoch 19/100\n",
            "160/160 [==============================] - 0s 3ms/step - loss: 0.4581 - accuracy: 0.9893 - val_loss: 0.0882 - val_accuracy: 0.9987\n",
            "Epoch 20/100\n",
            "160/160 [==============================] - 0s 3ms/step - loss: 0.5687 - accuracy: 0.9876 - val_loss: 0.1611 - val_accuracy: 0.9988\n",
            "Epoch 21/100\n",
            "160/160 [==============================] - 0s 3ms/step - loss: 0.2898 - accuracy: 0.9898 - val_loss: 0.2514 - val_accuracy: 0.9987\n",
            "Epoch 22/100\n",
            "160/160 [==============================] - 0s 3ms/step - loss: 0.7090 - accuracy: 0.9866 - val_loss: 0.3088 - val_accuracy: 0.9987\n",
            "Epoch 23/100\n",
            "160/160 [==============================] - 1s 3ms/step - loss: 0.3023 - accuracy: 0.9894 - val_loss: 0.0500 - val_accuracy: 0.9987\n",
            "Epoch 24/100\n",
            "160/160 [==============================] - 0s 3ms/step - loss: 0.5096 - accuracy: 0.9872 - val_loss: 0.4139 - val_accuracy: 0.9985\n",
            "Epoch 25/100\n",
            "160/160 [==============================] - 0s 3ms/step - loss: 0.2574 - accuracy: 0.9930 - val_loss: 0.0662 - val_accuracy: 0.9987\n",
            "Epoch 26/100\n",
            "160/160 [==============================] - 0s 3ms/step - loss: 0.4061 - accuracy: 0.9870 - val_loss: 0.1706 - val_accuracy: 0.9988\n",
            "Epoch 27/100\n",
            "160/160 [==============================] - 0s 3ms/step - loss: 0.3603 - accuracy: 0.9919 - val_loss: 0.2853 - val_accuracy: 0.9987\n",
            "Epoch 28/100\n",
            "160/160 [==============================] - 0s 3ms/step - loss: 0.2621 - accuracy: 0.9897 - val_loss: 0.2847 - val_accuracy: 0.9987\n",
            "Epoch 29/100\n",
            "160/160 [==============================] - 0s 3ms/step - loss: 0.2466 - accuracy: 0.9901 - val_loss: 0.2435 - val_accuracy: 0.9987\n",
            "Epoch 30/100\n",
            "160/160 [==============================] - 0s 3ms/step - loss: 0.3720 - accuracy: 0.9902 - val_loss: 0.1095 - val_accuracy: 0.9988\n",
            "Epoch 31/100\n",
            "160/160 [==============================] - 0s 3ms/step - loss: 0.5369 - accuracy: 0.9865 - val_loss: 0.3463 - val_accuracy: 0.9987\n",
            "Epoch 32/100\n",
            "160/160 [==============================] - 0s 3ms/step - loss: 0.3937 - accuracy: 0.9869 - val_loss: 0.3863 - val_accuracy: 0.9983\n",
            "Epoch 33/100\n",
            "160/160 [==============================] - 0s 3ms/step - loss: 0.3520 - accuracy: 0.9924 - val_loss: 0.3434 - val_accuracy: 0.9986\n",
            "Epoch 34/100\n",
            "160/160 [==============================] - 1s 3ms/step - loss: 0.2176 - accuracy: 0.9929 - val_loss: 0.0447 - val_accuracy: 0.9984\n",
            "Epoch 35/100\n",
            "160/160 [==============================] - 0s 3ms/step - loss: 0.3032 - accuracy: 0.9881 - val_loss: 0.3064 - val_accuracy: 0.9986\n",
            "Epoch 36/100\n",
            "160/160 [==============================] - 0s 3ms/step - loss: 0.9486 - accuracy: 0.9866 - val_loss: 0.3627 - val_accuracy: 0.9986\n",
            "Epoch 37/100\n",
            "160/160 [==============================] - 0s 3ms/step - loss: 0.2865 - accuracy: 0.9930 - val_loss: 0.1350 - val_accuracy: 0.9989\n",
            "Epoch 38/100\n",
            "160/160 [==============================] - 0s 3ms/step - loss: 0.2196 - accuracy: 0.9928 - val_loss: 0.2842 - val_accuracy: 0.9987\n",
            "Epoch 39/100\n",
            "160/160 [==============================] - 0s 3ms/step - loss: 0.4995 - accuracy: 0.9867 - val_loss: 0.1972 - val_accuracy: 0.9988\n",
            "Epoch 40/100\n",
            "160/160 [==============================] - 0s 3ms/step - loss: 0.2834 - accuracy: 0.9900 - val_loss: 0.3495 - val_accuracy: 0.9985\n",
            "Epoch 41/100\n",
            "160/160 [==============================] - 0s 3ms/step - loss: 0.6322 - accuracy: 0.9872 - val_loss: 0.3834 - val_accuracy: 0.9984\n",
            "Epoch 42/100\n",
            "160/160 [==============================] - 0s 3ms/step - loss: 1.0644 - accuracy: 0.9870 - val_loss: 0.2900 - val_accuracy: 0.9985\n",
            "Epoch 43/100\n",
            "160/160 [==============================] - 0s 3ms/step - loss: 0.2707 - accuracy: 0.9888 - val_loss: 0.4194 - val_accuracy: 0.9983\n",
            "Epoch 44/100\n",
            "160/160 [==============================] - 0s 3ms/step - loss: 0.2783 - accuracy: 0.9928 - val_loss: 0.0552 - val_accuracy: 0.9985\n",
            "Epoch 45/100\n",
            "160/160 [==============================] - 0s 3ms/step - loss: 0.6168 - accuracy: 0.9863 - val_loss: 0.3609 - val_accuracy: 0.9983\n",
            "Epoch 46/100\n",
            "160/160 [==============================] - 0s 3ms/step - loss: 0.4183 - accuracy: 0.9868 - val_loss: 0.3062 - val_accuracy: 0.9984\n",
            "Epoch 47/100\n",
            "160/160 [==============================] - 0s 3ms/step - loss: 0.4944 - accuracy: 0.9872 - val_loss: 0.4048 - val_accuracy: 0.9983\n",
            "Epoch 48/100\n",
            "160/160 [==============================] - 0s 3ms/step - loss: 0.3763 - accuracy: 0.9893 - val_loss: 0.2920 - val_accuracy: 0.9983\n",
            "Epoch 49/100\n",
            "160/160 [==============================] - 0s 3ms/step - loss: 0.3696 - accuracy: 0.9906 - val_loss: 0.3083 - val_accuracy: 0.9983\n",
            "Epoch 50/100\n",
            "160/160 [==============================] - 0s 3ms/step - loss: 0.8846 - accuracy: 0.9865 - val_loss: 0.3416 - val_accuracy: 0.9983\n",
            "Epoch 51/100\n",
            "160/160 [==============================] - 0s 3ms/step - loss: 0.3740 - accuracy: 0.9869 - val_loss: 0.3422 - val_accuracy: 0.9983\n",
            "Epoch 52/100\n",
            "160/160 [==============================] - 0s 3ms/step - loss: 0.1863 - accuracy: 0.9961 - val_loss: 0.0693 - val_accuracy: 0.9990\n",
            "Epoch 53/100\n",
            "160/160 [==============================] - 0s 3ms/step - loss: 1.7267 - accuracy: 0.9882 - val_loss: 0.3461 - val_accuracy: 0.9983\n",
            "Epoch 54/100\n",
            "160/160 [==============================] - 0s 3ms/step - loss: 0.3152 - accuracy: 0.9930 - val_loss: 0.0384 - val_accuracy: 0.9991\n",
            "Epoch 55/100\n",
            "160/160 [==============================] - 0s 3ms/step - loss: 0.4942 - accuracy: 0.9867 - val_loss: 0.0580 - val_accuracy: 0.9986\n",
            "Epoch 56/100\n",
            "160/160 [==============================] - 0s 3ms/step - loss: 0.2735 - accuracy: 0.9881 - val_loss: 0.0220 - val_accuracy: 0.9992\n",
            "Epoch 57/100\n",
            "160/160 [==============================] - 0s 3ms/step - loss: 0.6078 - accuracy: 0.9874 - val_loss: 0.0211 - val_accuracy: 0.9989\n",
            "Epoch 58/100\n",
            "160/160 [==============================] - 0s 3ms/step - loss: 0.4575 - accuracy: 0.9864 - val_loss: 0.3558 - val_accuracy: 0.9983\n",
            "Epoch 59/100\n",
            "160/160 [==============================] - 0s 3ms/step - loss: 0.7241 - accuracy: 0.9919 - val_loss: 0.1232 - val_accuracy: 0.9986\n",
            "Epoch 60/100\n",
            "160/160 [==============================] - 0s 3ms/step - loss: 0.3302 - accuracy: 0.9912 - val_loss: 0.3452 - val_accuracy: 0.9985\n",
            "Epoch 61/100\n",
            "160/160 [==============================] - 0s 3ms/step - loss: 0.5232 - accuracy: 0.9872 - val_loss: 0.3297 - val_accuracy: 0.9983\n",
            "Epoch 62/100\n",
            "160/160 [==============================] - 0s 3ms/step - loss: 0.3831 - accuracy: 0.9898 - val_loss: 0.3353 - val_accuracy: 0.9983\n",
            "Epoch 63/100\n",
            "160/160 [==============================] - 0s 3ms/step - loss: 0.4267 - accuracy: 0.9866 - val_loss: 0.3260 - val_accuracy: 0.9983\n",
            "Epoch 64/100\n",
            "160/160 [==============================] - 0s 3ms/step - loss: 0.4755 - accuracy: 0.9871 - val_loss: 0.4188 - val_accuracy: 0.9983\n",
            "Epoch 65/100\n",
            "160/160 [==============================] - 0s 3ms/step - loss: 0.3059 - accuracy: 0.9896 - val_loss: 0.3239 - val_accuracy: 0.9983\n",
            "Epoch 66/100\n",
            "160/160 [==============================] - 0s 3ms/step - loss: 0.2672 - accuracy: 0.9893 - val_loss: 0.1339 - val_accuracy: 0.9986\n",
            "Epoch 67/100\n",
            "160/160 [==============================] - 0s 3ms/step - loss: 1.0524 - accuracy: 0.9914 - val_loss: 0.3030 - val_accuracy: 0.9985\n",
            "Epoch 68/100\n",
            "160/160 [==============================] - 0s 3ms/step - loss: 0.2394 - accuracy: 0.9927 - val_loss: 0.0723 - val_accuracy: 0.9989\n",
            "Epoch 69/100\n",
            "160/160 [==============================] - 0s 3ms/step - loss: 0.3167 - accuracy: 0.9882 - val_loss: 0.0673 - val_accuracy: 0.9988\n",
            "Epoch 70/100\n",
            "160/160 [==============================] - 0s 3ms/step - loss: 0.2360 - accuracy: 0.9908 - val_loss: 0.0310 - val_accuracy: 0.9989\n",
            "Epoch 71/100\n",
            "160/160 [==============================] - 0s 3ms/step - loss: 0.4440 - accuracy: 0.9880 - val_loss: 0.3797 - val_accuracy: 0.9983\n",
            "Epoch 72/100\n",
            "160/160 [==============================] - 0s 3ms/step - loss: 0.4435 - accuracy: 0.9868 - val_loss: 0.3266 - val_accuracy: 0.9983\n",
            "Epoch 73/100\n",
            "160/160 [==============================] - 0s 3ms/step - loss: 0.2717 - accuracy: 0.9887 - val_loss: 0.3592 - val_accuracy: 0.9983\n",
            "Epoch 74/100\n",
            "160/160 [==============================] - 0s 3ms/step - loss: 0.2960 - accuracy: 0.9895 - val_loss: 0.3131 - val_accuracy: 0.9983\n",
            "Epoch 75/100\n",
            "160/160 [==============================] - 0s 3ms/step - loss: 0.3842 - accuracy: 0.9891 - val_loss: 0.3287 - val_accuracy: 0.9983\n",
            "Epoch 76/100\n",
            "160/160 [==============================] - 0s 3ms/step - loss: 0.3659 - accuracy: 0.9919 - val_loss: 0.0933 - val_accuracy: 0.9988\n",
            "Epoch 77/100\n",
            "160/160 [==============================] - 0s 3ms/step - loss: 0.2199 - accuracy: 0.9894 - val_loss: 0.1739 - val_accuracy: 0.9985\n",
            "Epoch 78/100\n",
            "160/160 [==============================] - 0s 3ms/step - loss: 0.1802 - accuracy: 0.9926 - val_loss: 0.0638 - val_accuracy: 0.9989\n",
            "Epoch 79/100\n",
            "160/160 [==============================] - 0s 3ms/step - loss: 0.2493 - accuracy: 0.9910 - val_loss: 0.3693 - val_accuracy: 0.9984\n",
            "Epoch 80/100\n",
            "160/160 [==============================] - 0s 3ms/step - loss: 0.1547 - accuracy: 0.9936 - val_loss: 0.2285 - val_accuracy: 0.9985\n",
            "Epoch 81/100\n",
            "160/160 [==============================] - 0s 3ms/step - loss: 0.2178 - accuracy: 0.9891 - val_loss: 0.0386 - val_accuracy: 0.9990\n",
            "Epoch 82/100\n",
            "160/160 [==============================] - 0s 3ms/step - loss: 0.1812 - accuracy: 0.9923 - val_loss: 0.0242 - val_accuracy: 0.9992\n",
            "Epoch 83/100\n",
            "160/160 [==============================] - 0s 3ms/step - loss: 0.4114 - accuracy: 0.9894 - val_loss: 0.3421 - val_accuracy: 0.9984\n",
            "Epoch 84/100\n",
            "160/160 [==============================] - 0s 3ms/step - loss: 0.1447 - accuracy: 0.9976 - val_loss: 0.3130 - val_accuracy: 0.9983\n",
            "Epoch 85/100\n",
            "160/160 [==============================] - 0s 3ms/step - loss: 0.3953 - accuracy: 0.9868 - val_loss: 0.2392 - val_accuracy: 0.9983\n",
            "Epoch 86/100\n",
            "160/160 [==============================] - 0s 3ms/step - loss: 0.2727 - accuracy: 0.9925 - val_loss: 0.0269 - val_accuracy: 0.9991\n",
            "Epoch 87/100\n",
            "160/160 [==============================] - 0s 3ms/step - loss: 0.3377 - accuracy: 0.9901 - val_loss: 0.1820 - val_accuracy: 0.9992\n",
            "Epoch 88/100\n",
            "160/160 [==============================] - 0s 2ms/step - loss: 0.1360 - accuracy: 0.9961 - val_loss: 0.0744 - val_accuracy: 0.9990\n",
            "Epoch 89/100\n",
            "160/160 [==============================] - 0s 3ms/step - loss: 0.3933 - accuracy: 0.9868 - val_loss: 0.1679 - val_accuracy: 0.9987\n",
            "Epoch 90/100\n",
            "160/160 [==============================] - 0s 3ms/step - loss: 0.3227 - accuracy: 0.9872 - val_loss: 0.2708 - val_accuracy: 0.9985\n",
            "Epoch 91/100\n",
            "160/160 [==============================] - 0s 3ms/step - loss: 0.1753 - accuracy: 0.9936 - val_loss: 0.2321 - val_accuracy: 0.9986\n",
            "Epoch 92/100\n",
            "160/160 [==============================] - 0s 3ms/step - loss: 0.2002 - accuracy: 0.9895 - val_loss: 0.1611 - val_accuracy: 0.9991\n",
            "Epoch 93/100\n",
            "160/160 [==============================] - 0s 3ms/step - loss: 0.3189 - accuracy: 0.9892 - val_loss: 0.2231 - val_accuracy: 0.9985\n",
            "Epoch 94/100\n",
            "160/160 [==============================] - 0s 3ms/step - loss: 0.3469 - accuracy: 0.9906 - val_loss: 0.2108 - val_accuracy: 0.9985\n",
            "Epoch 95/100\n",
            "160/160 [==============================] - 0s 3ms/step - loss: 0.2073 - accuracy: 0.9930 - val_loss: 0.0459 - val_accuracy: 0.9991\n",
            "Epoch 96/100\n",
            "160/160 [==============================] - 0s 3ms/step - loss: 0.2437 - accuracy: 0.9911 - val_loss: 0.2454 - val_accuracy: 0.9983\n",
            "Epoch 97/100\n",
            "160/160 [==============================] - 0s 3ms/step - loss: 0.6051 - accuracy: 0.9873 - val_loss: 0.2601 - val_accuracy: 0.9984\n",
            "Epoch 98/100\n",
            "160/160 [==============================] - 0s 3ms/step - loss: 0.2527 - accuracy: 0.9879 - val_loss: 0.2457 - val_accuracy: 0.9985\n",
            "Epoch 99/100\n",
            "160/160 [==============================] - 0s 3ms/step - loss: 0.1341 - accuracy: 0.9953 - val_loss: 0.1008 - val_accuracy: 0.9992\n",
            "Epoch 100/100\n",
            "160/160 [==============================] - 0s 3ms/step - loss: 0.4046 - accuracy: 0.9883 - val_loss: 0.0728 - val_accuracy: 0.9990\n"
          ],
          "name": "stdout"
        }
      ]
    },
    {
      "cell_type": "code",
      "metadata": {
        "colab": {
          "base_uri": "https://localhost:8080/"
        },
        "id": "vs8SUWtjmcQ6",
        "outputId": "917f9e73-2315-4905-e012-3c4a83a5a754"
      },
      "source": [
        "history_dict = history.history\n",
        "history_dict.keys()"
      ],
      "execution_count": 169,
      "outputs": [
        {
          "output_type": "execute_result",
          "data": {
            "text/plain": [
              "dict_keys(['loss', 'accuracy', 'val_loss', 'val_accuracy'])"
            ]
          },
          "metadata": {
            "tags": []
          },
          "execution_count": 169
        }
      ]
    },
    {
      "cell_type": "code",
      "metadata": {
        "colab": {
          "base_uri": "https://localhost:8080/",
          "height": 294
        },
        "id": "eGXzlhn8mwVa",
        "outputId": "53f50fcc-51c1-4c39-a720-1af754baa309"
      },
      "source": [
        "import matplotlib.pyplot as plt\n",
        "import numpy as np\n",
        "\n",
        "history_dict = history.history\n",
        "\n",
        "loss_values = history_dict['loss']\n",
        "val_loss_values = history_dict['val_loss']\n",
        "epochs = np.arange(1, len(history_dict[\"accuracy\"]) + 1)\n",
        "plt.plot(epochs, loss_values, 'b', label='Training loss')\n",
        "plt.plot(epochs, val_loss_values, 'go', label='Validation loss')\n",
        "plt.title('Training and validation loss')\n",
        "plt.xlabel('Epochs')\n",
        "plt.ylabel('Loss')\n",
        "plt.legend()\n",
        "plt.show()"
      ],
      "execution_count": 177,
      "outputs": [
        {
          "output_type": "display_data",
          "data": {
            "image/png": "[encoded data removed]",
            "text/plain": [
              "<Figure size 432x288 with 1 Axes>"
            ]
          },
          "metadata": {
            "tags": [],
            "needs_background": "light"
          }
        }
      ]
    },
    {
      "cell_type": "code",
      "metadata": {
        "id": "gTueceqfhB6r"
      },
      "source": [
        ""
      ],
      "execution_count": null,
      "outputs": []
    },
    {
      "cell_type": "code",
      "metadata": {
        "id": "ywifacppHYI4"
      },
      "source": [
        "model.fit(x_train,y_train,epochs=100,batch_size=1000)"
      ],
      "execution_count": null,
      "outputs": []
    },
    {
      "cell_type": "code",
      "metadata": {
        "id": "BGFb5TomHWgT"
      },
      "source": [
        "predict=model.predict(x_test)"
      ],
      "execution_count": null,
      "outputs": []
    },
    {
      "cell_type": "code",
      "metadata": {
        "id": "Ob4A5_FAFz_4"
      },
      "source": [
        "model.evaluate(x_test,y_test)"
      ],
      "execution_count": null,
      "outputs": []
    },
    {
      "cell_type": "code",
      "metadata": {
        "id": "PsYO3QArJ1vR"
      },
      "source": [
        ""
      ],
      "execution_count": null,
      "outputs": []
    },
    {
      "cell_type": "code",
      "metadata": {
        "id": "zQJxV1RNKGxn"
      },
      "source": [
        ""
      ],
      "execution_count": null,
      "outputs": []
    }
  ]
}